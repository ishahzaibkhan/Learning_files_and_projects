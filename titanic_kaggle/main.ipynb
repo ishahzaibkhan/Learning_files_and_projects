{
 "cells": [
  {
   "metadata": {},
   "cell_type": "code",
   "source": [
    "# Libraries\n",
    "import matplotlib.pyplot as plt\n",
    "import seaborn as sns\n",
    "import pandas as pd\n",
    "import numpy as np\n",
    "\n",
    "# Data Operations\n",
    "from sklearn.model_selection import train_test_split\n",
    "from category_encoders import OneHotEncoder\n",
    "from sklearn.pipeline import make_pipeline\n",
    "from sklearn.impute import SimpleImputer\n",
    "\n",
    "# Classification Models\n",
    "from sklearn.linear_model import LogisticRegression\n",
    "from sklearn.ensemble import RandomForestClassifier\n",
    "from sklearn.naive_bayes import GaussianNB\n",
    "from sklearn.svm import SVC\n",
    "# Metrics\n",
    "from sklearn.metrics import accuracy_score, precision_score, recall_score, f1_score\n",
    "\n",
    "import warnings\n",
    "warnings.filterwarnings(\"ignore\")\n"
   ],
   "id": "c4c418fadecee73",
   "outputs": [],
   "execution_count": null
  },
  {
   "metadata": {},
   "cell_type": "markdown",
   "source": "### Importing libraries",
   "id": "a1429d137a6d7296"
  },
  {
   "metadata": {},
   "cell_type": "markdown",
   "source": "### Import data",
   "id": "797b09733335b5a7"
  },
  {
   "metadata": {},
   "cell_type": "code",
   "source": [
    "df_train = pd.read_csv(\"./data/train.csv\")\n",
    "df_test = pd.read_csv(\"./data/test.csv\")"
   ],
   "id": "a9b7d003b7cde46a",
   "outputs": [],
   "execution_count": null
  },
  {
   "metadata": {},
   "cell_type": "markdown",
   "source": "### Data Understanding",
   "id": "3d151118c2d3b339"
  },
  {
   "metadata": {},
   "cell_type": "code",
   "source": "df_train.shape",
   "id": "7bee8c0151398bdb",
   "outputs": [],
   "execution_count": null
  },
  {
   "metadata": {},
   "cell_type": "code",
   "source": "df_train.info()",
   "id": "a553a4ca02ba594a",
   "outputs": [],
   "execution_count": null
  },
  {
   "metadata": {},
   "cell_type": "code",
   "source": "df_train.describe()",
   "id": "c116beca503611e9",
   "outputs": [],
   "execution_count": null
  },
  {
   "metadata": {},
   "cell_type": "code",
   "source": "df_train.sample(5)",
   "id": "f0449ed7e378cf4d",
   "outputs": [],
   "execution_count": null
  },
  {
   "metadata": {},
   "cell_type": "markdown",
   "source": "### Data Wrangling",
   "id": "de5dbf75206bb1b2"
  },
  {
   "metadata": {},
   "cell_type": "markdown",
   "source": "#### Missing Values",
   "id": "dce95f385ff0da90"
  },
  {
   "metadata": {},
   "cell_type": "code",
   "source": "df_train.isnull().sum()",
   "id": "8efe6a20196c4cc5",
   "outputs": [],
   "execution_count": null
  },
  {
   "metadata": {},
   "cell_type": "markdown",
   "source": "##### Median imputation for Age",
   "id": "a452d536688970a5"
  },
  {
   "metadata": {},
   "cell_type": "code",
   "source": "df_train[\"Age\"].fillna(df_train[\"Age\"].median(), inplace=True)",
   "id": "bdab4cfed7db4884",
   "outputs": [],
   "execution_count": null
  },
  {
   "metadata": {},
   "cell_type": "markdown",
   "source": "#### Outlier Detection and Removal",
   "id": "a59e9cad68b9126"
  },
  {
   "metadata": {},
   "cell_type": "markdown",
   "source": "##### Plots before removing outliers",
   "id": "ae1b6147decc90c1"
  },
  {
   "metadata": {},
   "cell_type": "code",
   "source": [
    "fig, axes = plt.subplots(1,3, figsize=(18,5))\n",
    "\n",
    "# Fare vs Age\n",
    "axes[0].scatter(df_train[\"Age\"], df_train[\"Fare\"])\n",
    "axes[0].set_title(\"Fare vs Age\")\n",
    "axes[0].set_xlabel(\"Age\")\n",
    "axes[0].set_ylabel(\"Fare\")\n",
    "\n",
    "# Fare Boxplot\n",
    "axes[1].boxplot(df_train[\"Fare\"])\n",
    "axes[1].set_title(\"Fare\")\n",
    "\n",
    "# Age Boxplot\n",
    "axes[2].boxplot(df_train[\"Age\"])\n",
    "axes[2].set_title(\"Age\")\n",
    "\n",
    "plt.show()"
   ],
   "id": "2575d69322310ce4",
   "outputs": [],
   "execution_count": null
  },
  {
   "metadata": {},
   "cell_type": "markdown",
   "source": "#### IQR Method (fare)",
   "id": "c33e56536b1d0f98"
  },
  {
   "metadata": {},
   "cell_type": "code",
   "source": [
    "q1 = df_train[\"Fare\"].quantile(0.25)\n",
    "q3 = df_train[\"Fare\"].quantile(0.75)\n",
    "iqr = q3 - q1\n",
    "\n",
    "low = q1 - 1.5 * iqr\n",
    "high = q3 + 1.5 * iqr\n",
    "\n",
    "df_train = df_train.loc[(df_train[\"Fare\"] > low) & (df_train[\"Fare\"] < high)].reset_index(drop=True)"
   ],
   "id": "ebf02b7eca7cf272",
   "outputs": [],
   "execution_count": null
  },
  {
   "metadata": {},
   "cell_type": "markdown",
   "source": "#### IQR Method (age)",
   "id": "db7b93948c1e774b"
  },
  {
   "metadata": {},
   "cell_type": "code",
   "source": [
    "q1 = df_train[\"Age\"].quantile(0.25)\n",
    "q3 = df_train[\"Age\"].quantile(0.75)\n",
    "iqr = q3 - q1\n",
    "\n",
    "low = q1 - 1.5 * iqr\n",
    "high = q3 + 1.5 * iqr\n",
    "\n",
    "df_train = df_train.loc[(df_train[\"Age\"] > low) & (df_train[\"Age\"] < high)].reset_index(drop=True)"
   ],
   "id": "424c0be5a4d024cc",
   "outputs": [],
   "execution_count": null
  },
  {
   "metadata": {},
   "cell_type": "markdown",
   "source": "##### Plots after removing outliers",
   "id": "6db302309974746a"
  },
  {
   "metadata": {},
   "cell_type": "code",
   "source": [
    "fig, axes = plt.subplots(1,3, figsize=(18,5))\n",
    "\n",
    "# Fare vs Age\n",
    "axes[0].scatter(df_train[\"Age\"], df_train[\"Fare\"])\n",
    "axes[0].set_title(\"Fare vs Age\")\n",
    "axes[0].set_xlabel(\"Age\")\n",
    "axes[0].set_ylabel(\"Fare\")\n",
    "\n",
    "# Fare Boxplot\n",
    "axes[1].boxplot(df_train[\"Fare\"])\n",
    "axes[1].set_title(\"Fare\")\n",
    "\n",
    "# Age Boxplot\n",
    "axes[2].boxplot(df_train[\"Age\"])\n",
    "axes[2].set_title(\"Age\")\n",
    "\n",
    "plt.show()\n"
   ],
   "id": "12c3d83428f6436e",
   "outputs": [],
   "execution_count": null
  },
  {
   "metadata": {},
   "cell_type": "markdown",
   "source": "#### Drop Features\n",
   "id": "b5626c546812426e"
  },
  {
   "metadata": {},
   "cell_type": "code",
   "source": [
    "# Cabin contains high amount of missing values, >50%\n",
    "df_train.drop(columns = [\"Cabin\"], inplace=True)\n",
    "\n",
    "# Ticket is a high cardinality feature\n",
    "df_train.drop(columns=\"Ticket\", inplace=True)"
   ],
   "id": "c4b0ca4167f9e02",
   "outputs": [],
   "execution_count": null
  },
  {
   "metadata": {},
   "cell_type": "markdown",
   "source": "#### Converting data types",
   "id": "bd56c29906709056"
  },
  {
   "metadata": {},
   "cell_type": "code",
   "source": [
    "# category\n",
    "df_train[[\"Embarked\", \"Sex\"]] = df_train[[\"Embarked\", \"Sex\"]].astype(\"category\")\n",
    "\n",
    "# uint8\n",
    "df_train[[\"Pclass\", \"SibSp\", \"Age\", \"Parch\", \"Survived\", \"Fare\"]] = df_train[[\"Pclass\", \"SibSp\", \"Age\", \"Parch\", \"Survived\", \"Fare\"]].astype(\"uint8\")\n",
    "\n",
    "# unit16\n",
    "df_train[[\"PassengerId\"]] = df_train[[\"PassengerId\"]].astype(\"uint16\")"
   ],
   "id": "ce39688fad669659",
   "outputs": [],
   "execution_count": null
  },
  {
   "metadata": {},
   "cell_type": "markdown",
   "source": "### Exploratory Data Analysis",
   "id": "ddedce1458d5e4a6"
  },
  {
   "metadata": {},
   "cell_type": "markdown",
   "source": "#### Collinearity",
   "id": "6ea158d43be13f90"
  },
  {
   "metadata": {},
   "cell_type": "code",
   "source": [
    "corr = df_train.select_dtypes(\"number\").drop(columns=[\"Survived\", \"PassengerId\"]).corr()\n",
    "sns.heatmap(corr, annot=True)"
   ],
   "id": "3dcaa1a730236b4f",
   "outputs": [],
   "execution_count": null
  },
  {
   "metadata": {},
   "cell_type": "code",
   "source": "df_train.info()",
   "id": "f6a5553395e7728b",
   "outputs": [],
   "execution_count": null
  },
  {
   "metadata": {},
   "cell_type": "markdown",
   "source": "#### Data visualization",
   "id": "758ab95a2971cfc3"
  },
  {
   "metadata": {},
   "cell_type": "markdown",
   "source": "##### Survivors by Passenger Type",
   "id": "405070022ee66bd6"
  },
  {
   "metadata": {},
   "cell_type": "code",
   "source": [
    "survivors_count = df_train[df_train[\"Survived\"] == True].groupby(\"Sex\")[\"Survived\"].count()\n",
    "non_survivors_count = df_train[df_train[\"Survived\"] == False].groupby(\"Sex\")[\"Survived\"].count()\n",
    "\n",
    "combined_counts = pd.DataFrame({\n",
    "    \"Survivors\": survivors_count,\n",
    "    \"Non-Survivors\": non_survivors_count\n",
    "})\n",
    "\n",
    "combined_counts.plot(kind='bar')\n",
    "plt.title(\"Survivors and Non-Survivors by Passenger Type\")\n",
    "plt.xlabel(\"Passenger Type\")\n",
    "plt.ylabel(\"Count\")\n",
    "plt.xticks(rotation=0)\n",
    "plt.show()\n",
    "print(combined_counts)"
   ],
   "id": "7d1da885c57ea61f",
   "outputs": [],
   "execution_count": null
  },
  {
   "metadata": {},
   "cell_type": "markdown",
   "source": "##### Survivors & Non-Survivor by Embark Town\n",
   "id": "bf58158da0dbdb02"
  },
  {
   "metadata": {},
   "cell_type": "code",
   "source": [
    "total_count = df_train[\"Embarked\"].value_counts()\n",
    "survived_count = df_train[df_train[\"Survived\"] == 1][\"Embarked\"].value_counts()\n",
    "non_survivors_count = df_train[df_train[\"Survived\"] == 0][\"Embarked\"].value_counts()\n",
    "\n",
    "fig, axes = plt.subplots(1, 3, figsize=(18, 5))\n",
    "\n",
    "# Plot total distribution\n",
    "total_count.plot(kind=\"bar\", ax=axes[0], color=\"skyblue\", title=\"Embark Town Distribution\")\n",
    "axes[0].set_xlabel(\"Embarked\")\n",
    "axes[0].set_ylabel(\"Count\")\n",
    "axes[0].set_xticks(range(len(total_count.index)))\n",
    "axes[0].set_xticklabels(total_count.index, rotation=0)\n",
    "\n",
    "# Plot survivors distribution\n",
    "survived_count.plot(kind=\"bar\", ax=axes[1], color=\"green\", title=\"Survivors from Embark Town\")\n",
    "axes[1].set_xlabel(\"Embarked\")\n",
    "axes[1].set_ylabel(\"Count\")\n",
    "axes[1].set_xticks(range(len(total_count.index)))\n",
    "axes[1].set_xticklabels(total_count.index, rotation=0)\n",
    "\n",
    "# Plot non-survivors distribution\n",
    "non_survivors_count.plot(kind=\"bar\", ax=axes[2], color=\"red\", title=\"Non-Survivors from Embark Town\")\n",
    "axes[2].set_xlabel(\"Embarked\")\n",
    "axes[2].set_ylabel(\"Count\")\n",
    "axes[2].set_xticks(range(len(total_count.index)))\n",
    "axes[2].set_xticklabels(total_count.index, rotation=0)\n",
    "\n",
    "plt.show()"
   ],
   "id": "39323b7c98b9a749",
   "outputs": [],
   "execution_count": null
  },
  {
   "metadata": {},
   "cell_type": "markdown",
   "source": "### Feature Engineering",
   "id": "603c2bc0612abf54"
  },
  {
   "metadata": {},
   "cell_type": "markdown",
   "source": "#### Family Size",
   "id": "475112efdc2f8264"
  },
  {
   "metadata": {},
   "cell_type": "code",
   "source": [
    "df_train[\"Family_size\"] = df_train[\"SibSp\"] + df_train[\"Parch\"] + 1\n",
    "plt.hist(df_train[\"Family_size\"])\n",
    "plt.xlabel(\"Family Size\")\n",
    "plt.ylim(0, 500)\n",
    "plt.ylabel(\"Count\")\n",
    "plt.title(\"Family Size Distribution\")\n",
    "plt.show()"
   ],
   "id": "72d951481d94c6b6",
   "outputs": [],
   "execution_count": null
  },
  {
   "metadata": {},
   "cell_type": "markdown",
   "source": "### Predictive Modeling",
   "id": "b70bc5409a918860"
  },
  {
   "metadata": {},
   "cell_type": "markdown",
   "source": "#### Features & Target Selection",
   "id": "1f8045be9b96b08c"
  },
  {
   "metadata": {},
   "cell_type": "code",
   "source": "df_train.columns",
   "id": "f6ede37d540e2eb",
   "outputs": [],
   "execution_count": null
  },
  {
   "metadata": {
    "ExecuteTime": {
     "end_time": "2025-01-07T20:14:43.199542Z",
     "start_time": "2025-01-07T20:14:43.189164Z"
    }
   },
   "cell_type": "code",
   "source": "features = df_train[[\"Age\", \"Fare\", \"Sex\", \"SibSp\", \"Parch\"]]",
   "id": "11bf8267e14cf3ca",
   "outputs": [],
   "execution_count": 178
  },
  {
   "metadata": {
    "ExecuteTime": {
     "end_time": "2025-01-07T20:14:43.237436Z",
     "start_time": "2025-01-07T20:14:43.229103Z"
    }
   },
   "cell_type": "code",
   "source": "target = df_train[\"Survived\"]",
   "id": "61d6890cd664fb60",
   "outputs": [],
   "execution_count": 179
  },
  {
   "metadata": {},
   "cell_type": "markdown",
   "source": "#### Model Selection",
   "id": "f5457cc249b22dfa"
  },
  {
   "metadata": {
    "ExecuteTime": {
     "end_time": "2025-01-07T20:14:43.304555Z",
     "start_time": "2025-01-07T20:14:43.294557Z"
    }
   },
   "cell_type": "code",
   "source": [
    "X_train = features\n",
    "y_train = target"
   ],
   "id": "11265f4d639bfc5f",
   "outputs": [],
   "execution_count": 180
  },
  {
   "metadata": {
    "ExecuteTime": {
     "end_time": "2025-01-07T20:14:43.363935Z",
     "start_time": "2025-01-07T20:14:43.354732Z"
    }
   },
   "cell_type": "code",
   "source": "X_test = df_test[[\"Age\",\"Fare\", \"Sex\", \"SibSp\", \"Parch\"]]",
   "id": "aa4400c0ac47ff18",
   "outputs": [],
   "execution_count": 181
  },
  {
   "metadata": {
    "ExecuteTime": {
     "end_time": "2025-01-07T20:14:43.422647Z",
     "start_time": "2025-01-07T20:14:43.410673Z"
    }
   },
   "cell_type": "code",
   "source": "# X_train, X_test, y_train, y_test = train_test_split(features, target, test_size=0.20, random_state=42)",
   "id": "bc537f2877a3f6b2",
   "outputs": [],
   "execution_count": 182
  },
  {
   "metadata": {
    "ExecuteTime": {
     "end_time": "2025-01-07T20:14:43.828912Z",
     "start_time": "2025-01-07T20:14:43.530445Z"
    }
   },
   "cell_type": "code",
   "source": [
    "model = make_pipeline(OneHotEncoder(), SimpleImputer(), RandomForestClassifier(n_estimators=100, max_depth=5, random_state=1))\n",
    "model.fit(X_train, y_train)\n",
    "y_pred = model.predict(X_test)"
   ],
   "id": "63790bcb1b09cb2b",
   "outputs": [],
   "execution_count": 183
  },
  {
   "metadata": {
    "ExecuteTime": {
     "end_time": "2025-01-07T20:14:43.898232Z",
     "start_time": "2025-01-07T20:14:43.882649Z"
    }
   },
   "cell_type": "code",
   "source": [
    "output = pd.DataFrame({'PassengerId': df_test.PassengerId, 'Survived': y_pred})\n",
    "output.to_csv('submission.csv', index=False)\n",
    "print(\"Your submission was successfully saved!\")"
   ],
   "id": "f094e4fe95e8680d",
   "outputs": [
    {
     "name": "stdout",
     "output_type": "stream",
     "text": [
      "Your submission was successfully saved!\n"
     ]
    }
   ],
   "execution_count": 184
  },
  {
   "metadata": {
    "ExecuteTime": {
     "end_time": "2025-01-07T20:14:44.360319Z",
     "start_time": "2025-01-07T20:14:43.955303Z"
    }
   },
   "cell_type": "code",
   "source": [
    "accuracy = accuracy_score(y_test, y_pred)\n",
    "print(accuracy)"
   ],
   "id": "685f965043b12816",
   "outputs": [
    {
     "ename": "ValueError",
     "evalue": "Found input variables with inconsistent numbers of samples: [140, 418]",
     "output_type": "error",
     "traceback": [
      "\u001B[1;31m---------------------------------------------------------------------------\u001B[0m",
      "\u001B[1;31mValueError\u001B[0m                                Traceback (most recent call last)",
      "Cell \u001B[1;32mIn[185], line 1\u001B[0m\n\u001B[1;32m----> 1\u001B[0m accuracy \u001B[38;5;241m=\u001B[39m \u001B[43maccuracy_score\u001B[49m\u001B[43m(\u001B[49m\u001B[43my_test\u001B[49m\u001B[43m,\u001B[49m\u001B[43m \u001B[49m\u001B[43my_pred\u001B[49m\u001B[43m)\u001B[49m\n\u001B[0;32m      2\u001B[0m \u001B[38;5;28mprint\u001B[39m(accuracy)\n",
      "File \u001B[1;32m~\\AppData\\Local\\Packages\\PythonSoftwareFoundation.Python.3.11_qbz5n2kfra8p0\\LocalCache\\local-packages\\Python311\\site-packages\\sklearn\\utils\\_param_validation.py:213\u001B[0m, in \u001B[0;36mvalidate_params.<locals>.decorator.<locals>.wrapper\u001B[1;34m(*args, **kwargs)\u001B[0m\n\u001B[0;32m    207\u001B[0m \u001B[38;5;28;01mtry\u001B[39;00m:\n\u001B[0;32m    208\u001B[0m     \u001B[38;5;28;01mwith\u001B[39;00m config_context(\n\u001B[0;32m    209\u001B[0m         skip_parameter_validation\u001B[38;5;241m=\u001B[39m(\n\u001B[0;32m    210\u001B[0m             prefer_skip_nested_validation \u001B[38;5;129;01mor\u001B[39;00m global_skip_validation\n\u001B[0;32m    211\u001B[0m         )\n\u001B[0;32m    212\u001B[0m     ):\n\u001B[1;32m--> 213\u001B[0m         \u001B[38;5;28;01mreturn\u001B[39;00m \u001B[43mfunc\u001B[49m\u001B[43m(\u001B[49m\u001B[38;5;241;43m*\u001B[39;49m\u001B[43margs\u001B[49m\u001B[43m,\u001B[49m\u001B[43m \u001B[49m\u001B[38;5;241;43m*\u001B[39;49m\u001B[38;5;241;43m*\u001B[39;49m\u001B[43mkwargs\u001B[49m\u001B[43m)\u001B[49m\n\u001B[0;32m    214\u001B[0m \u001B[38;5;28;01mexcept\u001B[39;00m InvalidParameterError \u001B[38;5;28;01mas\u001B[39;00m e:\n\u001B[0;32m    215\u001B[0m     \u001B[38;5;66;03m# When the function is just a wrapper around an estimator, we allow\u001B[39;00m\n\u001B[0;32m    216\u001B[0m     \u001B[38;5;66;03m# the function to delegate validation to the estimator, but we replace\u001B[39;00m\n\u001B[0;32m    217\u001B[0m     \u001B[38;5;66;03m# the name of the estimator by the name of the function in the error\u001B[39;00m\n\u001B[0;32m    218\u001B[0m     \u001B[38;5;66;03m# message to avoid confusion.\u001B[39;00m\n\u001B[0;32m    219\u001B[0m     msg \u001B[38;5;241m=\u001B[39m re\u001B[38;5;241m.\u001B[39msub(\n\u001B[0;32m    220\u001B[0m         \u001B[38;5;124mr\u001B[39m\u001B[38;5;124m\"\u001B[39m\u001B[38;5;124mparameter of \u001B[39m\u001B[38;5;124m\\\u001B[39m\u001B[38;5;124mw+ must be\u001B[39m\u001B[38;5;124m\"\u001B[39m,\n\u001B[0;32m    221\u001B[0m         \u001B[38;5;124mf\u001B[39m\u001B[38;5;124m\"\u001B[39m\u001B[38;5;124mparameter of \u001B[39m\u001B[38;5;132;01m{\u001B[39;00mfunc\u001B[38;5;241m.\u001B[39m\u001B[38;5;18m__qualname__\u001B[39m\u001B[38;5;132;01m}\u001B[39;00m\u001B[38;5;124m must be\u001B[39m\u001B[38;5;124m\"\u001B[39m,\n\u001B[0;32m    222\u001B[0m         \u001B[38;5;28mstr\u001B[39m(e),\n\u001B[0;32m    223\u001B[0m     )\n",
      "File \u001B[1;32m~\\AppData\\Local\\Packages\\PythonSoftwareFoundation.Python.3.11_qbz5n2kfra8p0\\LocalCache\\local-packages\\Python311\\site-packages\\sklearn\\metrics\\_classification.py:231\u001B[0m, in \u001B[0;36maccuracy_score\u001B[1;34m(y_true, y_pred, normalize, sample_weight)\u001B[0m\n\u001B[0;32m    229\u001B[0m xp, _, device \u001B[38;5;241m=\u001B[39m get_namespace_and_device(y_true, y_pred, sample_weight)\n\u001B[0;32m    230\u001B[0m \u001B[38;5;66;03m# Compute accuracy for each possible representation\u001B[39;00m\n\u001B[1;32m--> 231\u001B[0m y_type, y_true, y_pred \u001B[38;5;241m=\u001B[39m \u001B[43m_check_targets\u001B[49m\u001B[43m(\u001B[49m\u001B[43my_true\u001B[49m\u001B[43m,\u001B[49m\u001B[43m \u001B[49m\u001B[43my_pred\u001B[49m\u001B[43m)\u001B[49m\n\u001B[0;32m    232\u001B[0m check_consistent_length(y_true, y_pred, sample_weight)\n\u001B[0;32m    233\u001B[0m \u001B[38;5;28;01mif\u001B[39;00m y_type\u001B[38;5;241m.\u001B[39mstartswith(\u001B[38;5;124m\"\u001B[39m\u001B[38;5;124mmultilabel\u001B[39m\u001B[38;5;124m\"\u001B[39m):\n",
      "File \u001B[1;32m~\\AppData\\Local\\Packages\\PythonSoftwareFoundation.Python.3.11_qbz5n2kfra8p0\\LocalCache\\local-packages\\Python311\\site-packages\\sklearn\\metrics\\_classification.py:103\u001B[0m, in \u001B[0;36m_check_targets\u001B[1;34m(y_true, y_pred)\u001B[0m\n\u001B[0;32m     76\u001B[0m \u001B[38;5;250m\u001B[39m\u001B[38;5;124;03m\"\"\"Check that y_true and y_pred belong to the same classification task.\u001B[39;00m\n\u001B[0;32m     77\u001B[0m \n\u001B[0;32m     78\u001B[0m \u001B[38;5;124;03mThis converts multiclass or binary types to a common shape, and raises a\u001B[39;00m\n\u001B[1;32m   (...)\u001B[0m\n\u001B[0;32m    100\u001B[0m \u001B[38;5;124;03my_pred : array or indicator matrix\u001B[39;00m\n\u001B[0;32m    101\u001B[0m \u001B[38;5;124;03m\"\"\"\u001B[39;00m\n\u001B[0;32m    102\u001B[0m xp, _ \u001B[38;5;241m=\u001B[39m get_namespace(y_true, y_pred)\n\u001B[1;32m--> 103\u001B[0m \u001B[43mcheck_consistent_length\u001B[49m\u001B[43m(\u001B[49m\u001B[43my_true\u001B[49m\u001B[43m,\u001B[49m\u001B[43m \u001B[49m\u001B[43my_pred\u001B[49m\u001B[43m)\u001B[49m\n\u001B[0;32m    104\u001B[0m type_true \u001B[38;5;241m=\u001B[39m type_of_target(y_true, input_name\u001B[38;5;241m=\u001B[39m\u001B[38;5;124m\"\u001B[39m\u001B[38;5;124my_true\u001B[39m\u001B[38;5;124m\"\u001B[39m)\n\u001B[0;32m    105\u001B[0m type_pred \u001B[38;5;241m=\u001B[39m type_of_target(y_pred, input_name\u001B[38;5;241m=\u001B[39m\u001B[38;5;124m\"\u001B[39m\u001B[38;5;124my_pred\u001B[39m\u001B[38;5;124m\"\u001B[39m)\n",
      "File \u001B[1;32m~\\AppData\\Local\\Packages\\PythonSoftwareFoundation.Python.3.11_qbz5n2kfra8p0\\LocalCache\\local-packages\\Python311\\site-packages\\sklearn\\utils\\validation.py:457\u001B[0m, in \u001B[0;36mcheck_consistent_length\u001B[1;34m(*arrays)\u001B[0m\n\u001B[0;32m    455\u001B[0m uniques \u001B[38;5;241m=\u001B[39m np\u001B[38;5;241m.\u001B[39munique(lengths)\n\u001B[0;32m    456\u001B[0m \u001B[38;5;28;01mif\u001B[39;00m \u001B[38;5;28mlen\u001B[39m(uniques) \u001B[38;5;241m>\u001B[39m \u001B[38;5;241m1\u001B[39m:\n\u001B[1;32m--> 457\u001B[0m     \u001B[38;5;28;01mraise\u001B[39;00m \u001B[38;5;167;01mValueError\u001B[39;00m(\n\u001B[0;32m    458\u001B[0m         \u001B[38;5;124m\"\u001B[39m\u001B[38;5;124mFound input variables with inconsistent numbers of samples: \u001B[39m\u001B[38;5;132;01m%r\u001B[39;00m\u001B[38;5;124m\"\u001B[39m\n\u001B[0;32m    459\u001B[0m         \u001B[38;5;241m%\u001B[39m [\u001B[38;5;28mint\u001B[39m(l) \u001B[38;5;28;01mfor\u001B[39;00m l \u001B[38;5;129;01min\u001B[39;00m lengths]\n\u001B[0;32m    460\u001B[0m     )\n",
      "\u001B[1;31mValueError\u001B[0m: Found input variables with inconsistent numbers of samples: [140, 418]"
     ]
    }
   ],
   "execution_count": 185
  },
  {
   "metadata": {},
   "cell_type": "markdown",
   "source": "#### Multiple models",
   "id": "875630d773094dfc"
  },
  {
   "metadata": {
    "ExecuteTime": {
     "end_time": "2025-01-07T20:14:44.384340300Z",
     "start_time": "2025-01-07T20:13:07.381712Z"
    }
   },
   "cell_type": "code",
   "source": [
    "# models = {\n",
    "#     \"Logistic Regression\": make_pipeline(OneHotEncoder(), SimpleImputer(), LogisticRegression()),\n",
    "#     \"Random Forest\": make_pipeline(OneHotEncoder(), SimpleImputer(), RandomForestClassifier()),\n",
    "#     \"Support Vector Machine\": make_pipeline(OneHotEncoder(), SimpleImputer(), SVC(kernel=\"linear\")),\n",
    "#     \"Naive Bayes\": make_pipeline(OneHotEncoder(), SimpleImputer(), GaussianNB()),\n",
    "# }"
   ],
   "id": "7350571cb031caa",
   "outputs": [],
   "execution_count": 166
  },
  {
   "metadata": {
    "ExecuteTime": {
     "end_time": "2025-01-07T20:14:44.386331200Z",
     "start_time": "2025-01-07T20:13:07.444445Z"
    }
   },
   "cell_type": "code",
   "source": [
    "# results = {}\n",
    "# for name, model in models.items():\n",
    "#     model.fit(X_train, y_train)\n",
    "#     y_pred = model.predict(X_test)\n",
    "#     accuracy = accuracy_score(y_test, y_pred)\n",
    "#     precision = precision_score(y_test, y_pred, average=\"macro\")\n",
    "#     recall = recall_score(y_test, y_pred, average=\"macro\")\n",
    "#     f1 = f1_score(y_test, y_pred, average=\"macro\")\n",
    "#     results[name] = {\n",
    "#         \"Accuracy\": accuracy,\n",
    "#         \"Precision\": precision,\n",
    "#         \"Recall\": recall,\n",
    "#         \"F1\": f1\n",
    "#     }"
   ],
   "id": "9e94c4f1e1c66855",
   "outputs": [],
   "execution_count": 167
  },
  {
   "metadata": {},
   "cell_type": "markdown",
   "source": "#### Model Metrics",
   "id": "c3fb515ce1f37138"
  },
  {
   "metadata": {
    "ExecuteTime": {
     "end_time": "2025-01-07T20:14:44.390331200Z",
     "start_time": "2025-01-07T20:13:07.510465Z"
    }
   },
   "cell_type": "code",
   "source": [
    "# for name, metrics in results.items():\n",
    "#     print(f\"{name}:\")\n",
    "#     print(f\"  Accuracy = {metrics['Accuracy'] * 100:.2f}%\")\n",
    "#     print(f\"  Precision = {metrics['Precision'] * 100:.2f}%\")\n",
    "#     print(f\"  Recall = {metrics['Recall'] * 100:.2f}%\")\n",
    "#     print(f\"  F1 Score = {metrics['F1'] * 100:.2f}%\")\n"
   ],
   "id": "fc765b95e3f4430e",
   "outputs": [],
   "execution_count": 168
  },
  {
   "metadata": {},
   "cell_type": "markdown",
   "source": "#### Comparing model accuracy",
   "id": "ac9f3681e4a0dff9"
  },
  {
   "metadata": {
    "ExecuteTime": {
     "end_time": "2025-01-07T20:14:44.392336700Z",
     "start_time": "2025-01-07T20:13:07.564613Z"
    }
   },
   "cell_type": "code",
   "source": [
    "# model_names = list(results.keys())\n",
    "# accuracies = [metrics[\"Accuracy\"] for metrics in results.values()]\n",
    "# precisions = [metrics[\"Precision\"] for metrics in results.values()]\n",
    "# recalls = [metrics[\"Recall\"] for metrics in results.values()]\n",
    "# f1_scores = [metrics[\"F1\"] for metrics in results.values()]\n",
    "#\n",
    "# fig, axes = plt.subplots(2, 2, figsize=(12, 8))\n",
    "#\n",
    "# # Plot accuracy\n",
    "# axes[0, 0].bar(model_names, accuracies, width=0.5, align=\"center\")\n",
    "# axes[0, 0].set_title(\"Accuracy Comparison\")\n",
    "# axes[0, 0].set_ylabel(\"Accuracy\")\n",
    "# axes[0, 0].set_ylim(0, 1)\n",
    "# axes[0, 0].tick_params(axis=\"x\", labelrotation=45)\n",
    "#\n",
    "# # Plot precision\n",
    "# axes[0, 1].bar(model_names, precisions, width=0.5, align=\"center\")\n",
    "# axes[0, 1].set_title(\"Precision\")\n",
    "# axes[0, 1].set_ylabel(\"Precision\")\n",
    "# axes[0, 1].set_ylim(0, 1)\n",
    "# axes[0, 1].tick_params(axis=\"x\", labelrotation=45)\n",
    "#\n",
    "# # Plot recall\n",
    "# axes[1, 0].bar(model_names, recalls, width=0.5, align=\"center\")\n",
    "# axes[1, 0].set_title(\"Recall\")\n",
    "# axes[1, 0].set_ylabel(\"Recall\")\n",
    "# axes[1, 0].set_ylim(0, 1)\n",
    "# axes[1, 0].tick_params(axis=\"x\", labelrotation=45)\n",
    "#\n",
    "# # Plot F1 score\n",
    "# axes[1, 1].bar(model_names, f1_scores, width=0.5, align=\"center\")\n",
    "# axes[1, 1].set_title(\"F1 Score\")\n",
    "# axes[1, 1].set_ylabel(\"F1 Score\")\n",
    "# axes[1, 1].set_ylim(0, 1)\n",
    "# axes[1, 1].tick_params(axis=\"x\", labelrotation=45)\n",
    "#\n",
    "# plt.tight_layout()\n",
    "# plt.show()"
   ],
   "id": "a74419624792fed4",
   "outputs": [],
   "execution_count": 169
  },
  {
   "metadata": {
    "ExecuteTime": {
     "end_time": "2025-01-07T20:14:44.393333300Z",
     "start_time": "2025-01-07T20:13:07.669375Z"
    }
   },
   "cell_type": "code",
   "source": "",
   "id": "b961e02ec2457602",
   "outputs": [],
   "execution_count": null
  }
 ],
 "metadata": {
  "kernelspec": {
   "display_name": "Python 3",
   "language": "python",
   "name": "python3"
  },
  "language_info": {
   "codemirror_mode": {
    "name": "ipython",
    "version": 3
   },
   "file_extension": ".py",
   "mimetype": "text/x-python",
   "name": "python",
   "nbconvert_exporter": "python",
   "pygments_lexer": "ipython3",
   "version": "3.11.9"
  }
 },
 "nbformat": 4,
 "nbformat_minor": 5
}
