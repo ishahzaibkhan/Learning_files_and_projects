{
 "cells": [
  {
   "cell_type": "markdown",
   "id": "f0179866",
   "metadata": {},
   "source": [
    "# Autograd"
   ]
  },
  {
   "cell_type": "code",
   "execution_count": 14,
   "id": "initial_id",
   "metadata": {
    "ExecuteTime": {
     "end_time": "2025-02-26T22:45:54.297086Z",
     "start_time": "2025-02-26T22:45:54.280504Z"
    },
    "collapsed": true
   },
   "outputs": [],
   "source": [
    "import torch"
   ]
  },
  {
   "cell_type": "code",
   "execution_count": 22,
   "id": "626e98c83546ffa6",
   "metadata": {
    "ExecuteTime": {
     "end_time": "2025-02-26T22:49:28.775968Z",
     "start_time": "2025-02-26T22:49:28.768423Z"
    }
   },
   "outputs": [
    {
     "data": {
      "text/plain": [
       "tensor(3., requires_grad=True)"
      ]
     },
     "execution_count": 22,
     "metadata": {},
     "output_type": "execute_result"
    }
   ],
   "source": [
    "x = torch.tensor(3., requires_grad=True)\n",
    "x"
   ]
  },
  {
   "cell_type": "code",
   "execution_count": 23,
   "id": "d0103cb4c13c810d",
   "metadata": {
    "ExecuteTime": {
     "end_time": "2025-02-26T22:49:30.407186Z",
     "start_time": "2025-02-26T22:49:30.399956Z"
    }
   },
   "outputs": [
    {
     "data": {
      "text/plain": [
       "tensor(9., grad_fn=<PowBackward0>)"
      ]
     },
     "execution_count": 23,
     "metadata": {},
     "output_type": "execute_result"
    }
   ],
   "source": [
    "y = x**2\n",
    "y"
   ]
  },
  {
   "cell_type": "code",
   "execution_count": 17,
   "id": "32f402bfa160e313",
   "metadata": {
    "ExecuteTime": {
     "end_time": "2025-02-26T22:45:54.538731Z",
     "start_time": "2025-02-26T22:45:54.533003Z"
    }
   },
   "outputs": [],
   "source": [
    "y.backward()"
   ]
  },
  {
   "cell_type": "code",
   "execution_count": 18,
   "id": "dcf2afaeb218ad19",
   "metadata": {
    "ExecuteTime": {
     "end_time": "2025-02-26T22:45:54.573610Z",
     "start_time": "2025-02-26T22:45:54.565712Z"
    }
   },
   "outputs": [
    {
     "data": {
      "text/plain": [
       "tensor(6.)"
      ]
     },
     "execution_count": 18,
     "metadata": {},
     "output_type": "execute_result"
    }
   ],
   "source": [
    "x.grad"
   ]
  },
  {
   "cell_type": "code",
   "execution_count": 31,
   "id": "e4320e018c31f06e",
   "metadata": {
    "ExecuteTime": {
     "end_time": "2025-02-26T22:50:54.350856Z",
     "start_time": "2025-02-26T22:50:54.342362Z"
    }
   },
   "outputs": [
    {
     "data": {
      "text/plain": [
       "tensor([0.4121], grad_fn=<SinBackward0>)"
      ]
     },
     "execution_count": 31,
     "metadata": {},
     "output_type": "execute_result"
    }
   ],
   "source": [
    "x = torch.tensor([3.], requires_grad=True)\n",
    "y = x**2\n",
    "z = torch.sin(y)\n",
    "z"
   ]
  },
  {
   "cell_type": "code",
   "execution_count": 32,
   "id": "21204bdb6e3127e8",
   "metadata": {
    "ExecuteTime": {
     "end_time": "2025-02-26T22:50:54.950860Z",
     "start_time": "2025-02-26T22:50:54.944511Z"
    }
   },
   "outputs": [],
   "source": [
    "z.backward()"
   ]
  },
  {
   "cell_type": "code",
   "execution_count": 33,
   "id": "88d28e7b4f259123",
   "metadata": {
    "ExecuteTime": {
     "end_time": "2025-02-26T22:50:55.584420Z",
     "start_time": "2025-02-26T22:50:55.577114Z"
    }
   },
   "outputs": [
    {
     "data": {
      "text/plain": [
       "tensor([-5.4668])"
      ]
     },
     "execution_count": 33,
     "metadata": {},
     "output_type": "execute_result"
    }
   ],
   "source": [
    "x.grad"
   ]
  },
  {
   "cell_type": "code",
   "execution_count": 34,
   "id": "4fe374476f65ad91",
   "metadata": {
    "ExecuteTime": {
     "end_time": "2025-02-26T23:22:01.251218Z",
     "start_time": "2025-02-26T23:22:01.242002Z"
    }
   },
   "outputs": [],
   "source": [
    "x = torch.tensor([3.], requires_grad=True)"
   ]
  },
  {
   "cell_type": "code",
   "execution_count": null,
   "id": "5aeeadce6a5104ea",
   "metadata": {},
   "outputs": [],
   "source": []
  }
 ],
 "metadata": {
  "kernelspec": {
   "display_name": "Python 3",
   "language": "python",
   "name": "python3"
  },
  "language_info": {
   "codemirror_mode": {
    "name": "ipython",
    "version": 2
   },
   "file_extension": ".py",
   "mimetype": "text/x-python",
   "name": "python",
   "nbconvert_exporter": "python",
   "pygments_lexer": "ipython2",
   "version": "2.7.6"
  }
 },
 "nbformat": 4,
 "nbformat_minor": 5
}
