{
 "cells": [
  {
   "cell_type": "code",
   "id": "initial_id",
   "metadata": {
    "collapsed": true
   },
   "source": [
    "import torch\n",
    "print(torch.__version__)"
   ],
   "outputs": [],
   "execution_count": null
  },
  {
   "metadata": {},
   "cell_type": "code",
   "source": "device = \"gpu\" if torch.cuda.is_available() else \"cpu\"",
   "id": "a31003d6012afd22",
   "outputs": [],
   "execution_count": null
  },
  {
   "metadata": {},
   "cell_type": "markdown",
   "source": "## Creating Tensors",
   "id": "3ca8dd8c6cb21215"
  },
  {
   "metadata": {},
   "cell_type": "markdown",
   "source": "### Creating tensor using empty: it allocate memory and displays the value that exist in that memory already",
   "id": "341357f319c0c2e9"
  },
  {
   "metadata": {},
   "cell_type": "code",
   "source": "t = torch.empty(2,3)",
   "id": "272a48f2a7698157",
   "outputs": [],
   "execution_count": null
  },
  {
   "metadata": {},
   "cell_type": "code",
   "source": "type(t)",
   "id": "f462f3cf519c8db7",
   "outputs": [],
   "execution_count": null
  },
  {
   "metadata": {},
   "cell_type": "code",
   "source": "torch.zeros(2,3)",
   "id": "8de8e6556eee7efc",
   "outputs": [],
   "execution_count": null
  },
  {
   "metadata": {},
   "cell_type": "code",
   "source": "torch.ones(2,3)",
   "id": "f1a06127ec263dac",
   "outputs": [],
   "execution_count": null
  },
  {
   "metadata": {},
   "cell_type": "code",
   "source": "torch.rand(2,3)",
   "id": "cbec14bfa33ba6bf",
   "outputs": [],
   "execution_count": null
  },
  {
   "metadata": {},
   "cell_type": "code",
   "source": [
    "torch.manual_seed(42)\n",
    "torch.rand(2,3)"
   ],
   "id": "c10129353e54c050",
   "outputs": [],
   "execution_count": null
  },
  {
   "metadata": {},
   "cell_type": "code",
   "source": "torch.tensor([1,2,3,4,5])",
   "id": "56671983ed41ed82",
   "outputs": [],
   "execution_count": null
  },
  {
   "metadata": {},
   "cell_type": "code",
   "source": "torch.arange(0,15,3)",
   "id": "dcf674c864bacadc",
   "outputs": [],
   "execution_count": null
  },
  {
   "metadata": {},
   "cell_type": "code",
   "source": "torch.linspace(1,10,10)",
   "id": "1a00d9d14bda395d",
   "outputs": [],
   "execution_count": null
  },
  {
   "metadata": {},
   "cell_type": "code",
   "source": "torch.eye(3)",
   "id": "a9064bb8efeaf65a",
   "outputs": [],
   "execution_count": null
  },
  {
   "metadata": {},
   "cell_type": "code",
   "source": "torch.full((3,2),5.2)",
   "id": "c339358246a2cda",
   "outputs": [],
   "execution_count": null
  },
  {
   "metadata": {},
   "cell_type": "markdown",
   "source": "## Tensor Shapes",
   "id": "3b14b66bd844b833"
  },
  {
   "metadata": {},
   "cell_type": "code",
   "source": "x = torch.tensor([[1,2,3], [4,5,6]])",
   "id": "479812e02e3eaaee",
   "outputs": [],
   "execution_count": null
  },
  {
   "metadata": {},
   "cell_type": "code",
   "source": "x.shape",
   "id": "31795fd536072775",
   "outputs": [],
   "execution_count": null
  },
  {
   "metadata": {},
   "cell_type": "code",
   "source": "torch.empty_like(x)",
   "id": "962f632c81ef9a71",
   "outputs": [],
   "execution_count": null
  },
  {
   "metadata": {},
   "cell_type": "code",
   "source": "torch.zeros_like(x)",
   "id": "d64e634e4fe1d6f4",
   "outputs": [],
   "execution_count": null
  },
  {
   "metadata": {},
   "cell_type": "code",
   "source": "torch.ones_like(x)",
   "id": "c36662c6a3db7142",
   "outputs": [],
   "execution_count": null
  },
  {
   "metadata": {},
   "cell_type": "code",
   "source": "torch.rand_like(x, dtype=torch.float)",
   "id": "44bc83181d0a245",
   "outputs": [],
   "execution_count": null
  },
  {
   "metadata": {},
   "cell_type": "markdown",
   "source": "## Tensor Data Types",
   "id": "30fabc2ce8ae6d41"
  },
  {
   "metadata": {},
   "cell_type": "code",
   "source": "x.dtype",
   "id": "1e671a97aad38644",
   "outputs": [],
   "execution_count": null
  },
  {
   "metadata": {},
   "cell_type": "code",
   "source": "torch.tensor([1.0, 2.0, 3.0], dtype =torch.int32)",
   "id": "15fbf3b756524778",
   "outputs": [],
   "execution_count": null
  },
  {
   "metadata": {},
   "cell_type": "code",
   "source": "torch.tensor([1.0, 2.0, 3.0], dtype =torch.float32)",
   "id": "289b22551e43b33",
   "outputs": [],
   "execution_count": null
  },
  {
   "metadata": {},
   "cell_type": "code",
   "source": "x.to(torch.float32)",
   "id": "2529c5de88682e07",
   "outputs": [],
   "execution_count": null
  },
  {
   "metadata": {},
   "cell_type": "markdown",
   "source": "## Mathematical Operations",
   "id": "cfd703cf211a159e"
  },
  {
   "metadata": {},
   "cell_type": "code",
   "source": [
    "x = torch.randn(2,2)\n",
    "x"
   ],
   "id": "8b7231e1e46f9ffa",
   "outputs": [],
   "execution_count": null
  },
  {
   "metadata": {},
   "cell_type": "code",
   "source": [
    "print(x + 2)\n",
    "print(x-2)\n",
    "print(x*2)\n",
    "print(x/2)\n",
    "print(x//2)\n",
    "print(x%2)\n",
    "print(x**2)"
   ],
   "id": "e8f519dfcb226af2",
   "outputs": [],
   "execution_count": null
  },
  {
   "metadata": {},
   "cell_type": "code",
   "source": [
    "first = torch.randint(1,10, (2,2))\n",
    "second = torch.randint(1,10, (2,2))\n",
    "first, second"
   ],
   "id": "f5707b49fe53ca8a",
   "outputs": [],
   "execution_count": null
  },
  {
   "metadata": {},
   "cell_type": "code",
   "source": [
    "print(first + second)\n",
    "print(first - second)\n",
    "print(first * second)\n",
    "print(first // second)\n",
    "print(first % second)\n",
    "print(first ** second)"
   ],
   "id": "643e58bdedf3585f",
   "outputs": [],
   "execution_count": null
  },
  {
   "metadata": {},
   "cell_type": "code",
   "source": [
    "c = torch.randint(1,10, (1,10)) * -1\n",
    "c"
   ],
   "id": "a2935c1a1130e38a",
   "outputs": [],
   "execution_count": null
  },
  {
   "metadata": {},
   "cell_type": "code",
   "source": "torch.abs(c)",
   "id": "5637d529ae29e7bc",
   "outputs": [],
   "execution_count": null
  },
  {
   "metadata": {},
   "cell_type": "code",
   "source": "torch.neg(c)",
   "id": "51f665cbf5b39b36",
   "outputs": [],
   "execution_count": null
  },
  {
   "metadata": {},
   "cell_type": "code",
   "source": "torch.round(x)",
   "id": "208e0dbdb772bc73",
   "outputs": [],
   "execution_count": null
  },
  {
   "metadata": {},
   "cell_type": "code",
   "source": "torch.ceil(x)",
   "id": "c4b5ebdbec0c0fc1",
   "outputs": [],
   "execution_count": null
  },
  {
   "metadata": {},
   "cell_type": "code",
   "source": "torch.floor(x)",
   "id": "82c3de3c8ed1da37",
   "outputs": [],
   "execution_count": null
  },
  {
   "metadata": {},
   "cell_type": "code",
   "source": "torch.clamp(first, 3, 5)",
   "id": "1413f41d1d2ade88",
   "outputs": [],
   "execution_count": null
  },
  {
   "metadata": {},
   "cell_type": "code",
   "source": "",
   "id": "a8b5cbe95d8209b4",
   "outputs": [],
   "execution_count": null
  },
  {
   "metadata": {},
   "cell_type": "markdown",
   "source": "## Reduction Operation",
   "id": "223d44dafe186a66"
  },
  {
   "metadata": {},
   "cell_type": "code",
   "source": "torch.sum(first)",
   "id": "cf72d64038141c7",
   "outputs": [],
   "execution_count": null
  },
  {
   "metadata": {},
   "cell_type": "code",
   "source": "torch.sum(first, dim=0)",
   "id": "7bbebde95ed0265e",
   "outputs": [],
   "execution_count": null
  },
  {
   "metadata": {},
   "cell_type": "code",
   "source": "torch.sum(first, dim=1)",
   "id": "822411df0712ce65",
   "outputs": [],
   "execution_count": null
  },
  {
   "metadata": {},
   "cell_type": "code",
   "source": "torch.mean(x) # can also do for dimensions",
   "id": "347860934e7865b",
   "outputs": [],
   "execution_count": null
  },
  {
   "metadata": {},
   "cell_type": "code",
   "source": "torch.median(first)",
   "id": "fc7d428436c88516",
   "outputs": [],
   "execution_count": null
  },
  {
   "metadata": {},
   "cell_type": "code",
   "source": "torch.min(first)",
   "id": "fbba210136bff6c0",
   "outputs": [],
   "execution_count": null
  },
  {
   "metadata": {},
   "cell_type": "code",
   "source": "torch.max(first)",
   "id": "b53200af35a96c6d",
   "outputs": [],
   "execution_count": null
  },
  {
   "metadata": {},
   "cell_type": "code",
   "source": "torch.prod(first)",
   "id": "679b806bc23c0d58",
   "outputs": [],
   "execution_count": null
  },
  {
   "metadata": {},
   "cell_type": "code",
   "source": "torch.std(x)",
   "id": "eb974a541ef3a213",
   "outputs": [],
   "execution_count": null
  },
  {
   "metadata": {},
   "cell_type": "code",
   "source": "torch.var(x)",
   "id": "8dc1f0ce192065a9",
   "outputs": [],
   "execution_count": null
  },
  {
   "metadata": {},
   "cell_type": "code",
   "source": "torch.argmax(first)",
   "id": "aaf233deda3a5e7e",
   "outputs": [],
   "execution_count": null
  },
  {
   "metadata": {},
   "cell_type": "code",
   "source": "torch.argmin(first)",
   "id": "a8348e581e6670cc",
   "outputs": [],
   "execution_count": null
  },
  {
   "metadata": {},
   "cell_type": "markdown",
   "source": "## Matrix Operations",
   "id": "9c20b7ab6052afce"
  },
  {
   "metadata": {},
   "cell_type": "code",
   "source": "torch.matmul(first, second)",
   "id": "1176cceeae522f9f",
   "outputs": [],
   "execution_count": null
  },
  {
   "metadata": {},
   "cell_type": "code",
   "source": [
    "v1 = torch.tensor([1,2,3])\n",
    "v2 = torch.tensor([4,5,6])"
   ],
   "id": "ecc18e4974b7268f",
   "outputs": [],
   "execution_count": null
  },
  {
   "metadata": {},
   "cell_type": "code",
   "source": "torch.dot(v1, v2)",
   "id": "e98c427fbd28146e",
   "outputs": [],
   "execution_count": null
  },
  {
   "metadata": {},
   "cell_type": "code",
   "source": "torch.transpose(first, 0, 1)",
   "id": "d7c8b21d7c440ce6",
   "outputs": [],
   "execution_count": null
  },
  {
   "metadata": {},
   "cell_type": "code",
   "source": "torch.det(x)",
   "id": "60803c4957c01b0b",
   "outputs": [],
   "execution_count": null
  },
  {
   "metadata": {},
   "cell_type": "code",
   "source": "torch.inverse(x)",
   "id": "4fba1ce1851ed59c",
   "outputs": [],
   "execution_count": null
  },
  {
   "metadata": {},
   "cell_type": "markdown",
   "source": "## Comparison Operation",
   "id": "cac8079da3c7ad6a"
  },
  {
   "metadata": {},
   "cell_type": "code",
   "source": "first > second ## so on and os forth for each operation",
   "id": "831192b7a8d9ab07",
   "outputs": [],
   "execution_count": null
  },
  {
   "metadata": {},
   "cell_type": "markdown",
   "source": "## Special Funtion\n",
   "id": "b21be57d791e98bb"
  },
  {
   "metadata": {},
   "cell_type": "code",
   "source": "torch.log(first)",
   "id": "bd34859c4cf274b9",
   "outputs": [],
   "execution_count": null
  },
  {
   "metadata": {},
   "cell_type": "code",
   "source": "torch.exp(first)",
   "id": "f9afc0b62cdc5c3b",
   "outputs": [],
   "execution_count": null
  },
  {
   "metadata": {},
   "cell_type": "code",
   "source": "torch.sqrt(first)",
   "id": "4a6e0294e6ef58cf",
   "outputs": [],
   "execution_count": null
  },
  {
   "metadata": {},
   "cell_type": "code",
   "source": "torch.sigmoid(first)",
   "id": "7ad45386b2037a06",
   "outputs": [],
   "execution_count": null
  },
  {
   "metadata": {},
   "cell_type": "code",
   "source": "torch.softmax(x, dim=1)",
   "id": "d62ac43e5d2d1f83",
   "outputs": [],
   "execution_count": null
  },
  {
   "metadata": {},
   "cell_type": "code",
   "source": "torch.relu(c)",
   "id": "e0fffae73122645b",
   "outputs": [],
   "execution_count": null
  },
  {
   "metadata": {},
   "cell_type": "code",
   "source": "",
   "id": "3c67f610bc7769bd",
   "outputs": [],
   "execution_count": null
  },
  {
   "metadata": {},
   "cell_type": "markdown",
   "source": "## Inplace Operations",
   "id": "370cdc7050c1438f"
  },
  {
   "metadata": {},
   "cell_type": "code",
   "source": "## new tensor is created after the operation and occupy memory. so instead of using seperate we save it on the existing",
   "id": "caa0dcbc501033a1",
   "outputs": [],
   "execution_count": null
  },
  {
   "metadata": {},
   "cell_type": "code",
   "source": "first.add(second)",
   "id": "99f2154dd6c411dd",
   "outputs": [],
   "execution_count": null
  },
  {
   "metadata": {},
   "cell_type": "code",
   "source": "c.relu_() # underscore is used for inplace",
   "id": "2c97128d47a71351",
   "outputs": [],
   "execution_count": null
  },
  {
   "metadata": {},
   "cell_type": "code",
   "source": "c",
   "id": "39bf89ead5b97e2d",
   "outputs": [],
   "execution_count": null
  },
  {
   "metadata": {},
   "cell_type": "code",
   "source": "",
   "id": "cfd599aa0bdc9447",
   "outputs": [],
   "execution_count": null
  },
  {
   "metadata": {},
   "cell_type": "markdown",
   "source": "## Copying a Tensor",
   "id": "14f188e3ab7b74e1"
  },
  {
   "metadata": {},
   "cell_type": "code",
   "source": [
    "# a = b if one changes the other changes\n",
    "third = torch.clone(first)"
   ],
   "id": "654e4f0945999014",
   "outputs": [],
   "execution_count": null
  },
  {
   "metadata": {},
   "cell_type": "markdown",
   "source": "## Tensor Operations on GPU",
   "id": "fcb6dec95fd37c6d"
  },
  {
   "metadata": {},
   "cell_type": "code",
   "source": "device = \"gpu\" if torch.cuda.is_available() else \"cpu\"\n",
   "id": "a3b7090f861b50be",
   "outputs": [],
   "execution_count": null
  },
  {
   "metadata": {},
   "cell_type": "code",
   "source": "first.to(device)",
   "id": "f3bd0678ca546ea2",
   "outputs": [],
   "execution_count": null
  },
  {
   "metadata": {},
   "cell_type": "code",
   "source": "",
   "id": "5c3a1263c8b2eebc",
   "outputs": [],
   "execution_count": null
  },
  {
   "metadata": {},
   "cell_type": "markdown",
   "source": "## Reshaping Tensor",
   "id": "bd8cdbba43ec6f36"
  },
  {
   "metadata": {
    "ExecuteTime": {
     "end_time": "2025-02-25T19:15:22.125219Z",
     "start_time": "2025-02-25T19:15:22.109207Z"
    }
   },
   "cell_type": "code",
   "source": [
    "for_reshape = torch.rand(3,4)\n",
    "for_reshape"
   ],
   "id": "b54c18f04068f024",
   "outputs": [
    {
     "data": {
      "text/plain": [
       "tensor([[0.6273, 0.7358, 0.4368, 0.3023],\n",
       "        [0.7786, 0.1018, 0.8160, 0.3060],\n",
       "        [0.5077, 0.4012, 0.5606, 0.3489]])"
      ]
     },
     "execution_count": 172,
     "metadata": {},
     "output_type": "execute_result"
    }
   ],
   "execution_count": 172
  },
  {
   "metadata": {},
   "cell_type": "code",
   "source": "torch.reshape(for_reshape, (6,2))",
   "id": "4956dae645cbc2be",
   "outputs": [],
   "execution_count": null
  },
  {
   "metadata": {},
   "cell_type": "code",
   "source": "torch.flatten(for_reshape)",
   "id": "661291b680d450b2",
   "outputs": [],
   "execution_count": null
  },
  {
   "metadata": {
    "ExecuteTime": {
     "end_time": "2025-02-25T19:15:39.479694Z",
     "start_time": "2025-02-25T19:15:39.468238Z"
    }
   },
   "cell_type": "code",
   "source": "torch.permute(for_reshape, (1, 0))",
   "id": "71aa214a9bc28123",
   "outputs": [
    {
     "data": {
      "text/plain": [
       "tensor([[0.6273, 0.7786, 0.5077],\n",
       "        [0.7358, 0.1018, 0.4012],\n",
       "        [0.4368, 0.8160, 0.5606],\n",
       "        [0.3023, 0.3060, 0.3489]])"
      ]
     },
     "execution_count": 174,
     "metadata": {},
     "output_type": "execute_result"
    }
   ],
   "execution_count": 174
  },
  {
   "metadata": {
    "ExecuteTime": {
     "end_time": "2025-02-25T19:17:41.408870Z",
     "start_time": "2025-02-25T19:17:41.397190Z"
    }
   },
   "cell_type": "code",
   "source": "img = torch.randn(226, 226,3)",
   "id": "5c2257ce393f231f",
   "outputs": [],
   "execution_count": 175
  },
  {
   "metadata": {
    "ExecuteTime": {
     "end_time": "2025-02-25T19:18:34.028597Z",
     "start_time": "2025-02-25T19:18:34.016773Z"
    }
   },
   "cell_type": "code",
   "source": "img.unsqueeze(3).shape",
   "id": "3f123710e44793a1",
   "outputs": [
    {
     "data": {
      "text/plain": [
       "torch.Size([226, 226, 3, 1])"
      ]
     },
     "execution_count": 179,
     "metadata": {},
     "output_type": "execute_result"
    }
   ],
   "execution_count": 179
  },
  {
   "metadata": {
    "ExecuteTime": {
     "end_time": "2025-02-25T19:20:11.712135Z",
     "start_time": "2025-02-25T19:20:11.685524Z"
    }
   },
   "cell_type": "code",
   "source": "torch.squeeze(for_reshape, 1)",
   "id": "6086a8a60d2beb4",
   "outputs": [
    {
     "data": {
      "text/plain": [
       "tensor([[0.6273, 0.7358, 0.4368, 0.3023],\n",
       "        [0.7786, 0.1018, 0.8160, 0.3060],\n",
       "        [0.5077, 0.4012, 0.5606, 0.3489]])"
      ]
     },
     "execution_count": 182,
     "metadata": {},
     "output_type": "execute_result"
    }
   ],
   "execution_count": 182
  },
  {
   "metadata": {},
   "cell_type": "code",
   "outputs": [],
   "execution_count": null,
   "source": "",
   "id": "ad6f9e7f4a2679f8"
  },
  {
   "metadata": {},
   "cell_type": "markdown",
   "source": "## Numpy and PyTorch",
   "id": "59142e0eaef09c07"
  },
  {
   "metadata": {
    "ExecuteTime": {
     "end_time": "2025-02-25T21:29:32.933341Z",
     "start_time": "2025-02-25T21:29:32.920949Z"
    }
   },
   "cell_type": "code",
   "source": "first = first.numpy()",
   "id": "9c58a94bb9667937",
   "outputs": [],
   "execution_count": 194
  },
  {
   "metadata": {
    "ExecuteTime": {
     "end_time": "2025-02-25T19:23:38.012654Z",
     "start_time": "2025-02-25T19:23:37.992252Z"
    }
   },
   "cell_type": "code",
   "source": "type(first)",
   "id": "e9d61c978209ca14",
   "outputs": [
    {
     "data": {
      "text/plain": [
       "numpy.ndarray"
      ]
     },
     "execution_count": 187,
     "metadata": {},
     "output_type": "execute_result"
    }
   ],
   "execution_count": 187
  },
  {
   "metadata": {
    "ExecuteTime": {
     "end_time": "2025-02-25T19:24:49.622238Z",
     "start_time": "2025-02-25T19:24:49.613056Z"
    }
   },
   "cell_type": "code",
   "source": "first = torch.from_numpy(first)",
   "id": "f0e0cf0ae52d2494",
   "outputs": [],
   "execution_count": 192
  },
  {
   "metadata": {
    "ExecuteTime": {
     "end_time": "2025-02-25T19:24:53.030352Z",
     "start_time": "2025-02-25T19:24:53.011258Z"
    }
   },
   "cell_type": "code",
   "source": "type(first)",
   "id": "b9e95d4ace2ed787",
   "outputs": [
    {
     "data": {
      "text/plain": [
       "torch.Tensor"
      ]
     },
     "execution_count": 193,
     "metadata": {},
     "output_type": "execute_result"
    }
   ],
   "execution_count": 193
  },
  {
   "metadata": {},
   "cell_type": "code",
   "outputs": [],
   "execution_count": null,
   "source": "",
   "id": "1fb3e7ea7baf8b6b"
  }
 ],
 "metadata": {
  "kernelspec": {
   "display_name": "Python 3",
   "language": "python",
   "name": "python3"
  },
  "language_info": {
   "codemirror_mode": {
    "name": "ipython",
    "version": 2
   },
   "file_extension": ".py",
   "mimetype": "text/x-python",
   "name": "python",
   "nbconvert_exporter": "python",
   "pygments_lexer": "ipython2",
   "version": "2.7.6"
  }
 },
 "nbformat": 4,
 "nbformat_minor": 5
}
