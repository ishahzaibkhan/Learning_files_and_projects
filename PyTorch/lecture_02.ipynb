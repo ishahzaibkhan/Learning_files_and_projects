{
 "cells": [
  {
   "cell_type": "markdown",
   "id": "172cea94",
   "metadata": {},
   "source": [
    "# Tensors"
   ]
  },
  {
   "cell_type": "code",
   "execution_count": null,
   "id": "initial_id",
   "metadata": {
    "collapsed": true
   },
   "outputs": [],
   "source": [
    "import torch\n",
    "print(torch.__version__)"
   ]
  },
  {
   "cell_type": "code",
   "execution_count": null,
   "id": "a31003d6012afd22",
   "metadata": {},
   "outputs": [],
   "source": [
    "device = \"gpu\" if torch.cuda.is_available() else \"cpu\""
   ]
  },
  {
   "cell_type": "markdown",
   "id": "3ca8dd8c6cb21215",
   "metadata": {},
   "source": [
    "## Creating Tensors"
   ]
  },
  {
   "cell_type": "markdown",
   "id": "341357f319c0c2e9",
   "metadata": {},
   "source": [
    "### Creating tensor using empty: it allocate memory and displays the value that exist in that memory already"
   ]
  },
  {
   "cell_type": "code",
   "execution_count": null,
   "id": "272a48f2a7698157",
   "metadata": {},
   "outputs": [],
   "source": [
    "t = torch.empty(2,3)"
   ]
  },
  {
   "cell_type": "code",
   "execution_count": null,
   "id": "f462f3cf519c8db7",
   "metadata": {},
   "outputs": [],
   "source": [
    "type(t)"
   ]
  },
  {
   "cell_type": "code",
   "execution_count": null,
   "id": "8de8e6556eee7efc",
   "metadata": {},
   "outputs": [],
   "source": [
    "torch.zeros(2,3)"
   ]
  },
  {
   "cell_type": "code",
   "execution_count": null,
   "id": "f1a06127ec263dac",
   "metadata": {},
   "outputs": [],
   "source": [
    "torch.ones(2,3)"
   ]
  },
  {
   "cell_type": "code",
   "execution_count": null,
   "id": "cbec14bfa33ba6bf",
   "metadata": {},
   "outputs": [],
   "source": [
    "torch.rand(2,3)"
   ]
  },
  {
   "cell_type": "code",
   "execution_count": null,
   "id": "c10129353e54c050",
   "metadata": {},
   "outputs": [],
   "source": [
    "torch.manual_seed(42)\n",
    "torch.rand(2,3)"
   ]
  },
  {
   "cell_type": "code",
   "execution_count": null,
   "id": "56671983ed41ed82",
   "metadata": {},
   "outputs": [],
   "source": [
    "torch.tensor([1,2,3,4,5])"
   ]
  },
  {
   "cell_type": "code",
   "execution_count": null,
   "id": "dcf674c864bacadc",
   "metadata": {},
   "outputs": [],
   "source": [
    "torch.arange(0,15,3)"
   ]
  },
  {
   "cell_type": "code",
   "execution_count": null,
   "id": "1a00d9d14bda395d",
   "metadata": {},
   "outputs": [],
   "source": [
    "torch.linspace(1,10,10)"
   ]
  },
  {
   "cell_type": "code",
   "execution_count": null,
   "id": "a9064bb8efeaf65a",
   "metadata": {},
   "outputs": [],
   "source": [
    "torch.eye(3)"
   ]
  },
  {
   "cell_type": "code",
   "execution_count": null,
   "id": "c339358246a2cda",
   "metadata": {},
   "outputs": [],
   "source": [
    "torch.full((3,2),5.2)"
   ]
  },
  {
   "cell_type": "markdown",
   "id": "3b14b66bd844b833",
   "metadata": {},
   "source": [
    "## Tensor Shapes"
   ]
  },
  {
   "cell_type": "code",
   "execution_count": null,
   "id": "479812e02e3eaaee",
   "metadata": {},
   "outputs": [],
   "source": [
    "x = torch.tensor([[1,2,3], [4,5,6]])"
   ]
  },
  {
   "cell_type": "code",
   "execution_count": null,
   "id": "31795fd536072775",
   "metadata": {},
   "outputs": [],
   "source": [
    "x.shape"
   ]
  },
  {
   "cell_type": "code",
   "execution_count": null,
   "id": "962f632c81ef9a71",
   "metadata": {},
   "outputs": [],
   "source": [
    "torch.empty_like(x)"
   ]
  },
  {
   "cell_type": "code",
   "execution_count": null,
   "id": "d64e634e4fe1d6f4",
   "metadata": {},
   "outputs": [],
   "source": [
    "torch.zeros_like(x)"
   ]
  },
  {
   "cell_type": "code",
   "execution_count": null,
   "id": "c36662c6a3db7142",
   "metadata": {},
   "outputs": [],
   "source": [
    "torch.ones_like(x)"
   ]
  },
  {
   "cell_type": "code",
   "execution_count": null,
   "id": "44bc83181d0a245",
   "metadata": {},
   "outputs": [],
   "source": [
    "torch.rand_like(x, dtype=torch.float)"
   ]
  },
  {
   "cell_type": "markdown",
   "id": "30fabc2ce8ae6d41",
   "metadata": {},
   "source": [
    "## Tensor Data Types"
   ]
  },
  {
   "cell_type": "code",
   "execution_count": null,
   "id": "1e671a97aad38644",
   "metadata": {},
   "outputs": [],
   "source": [
    "x.dtype"
   ]
  },
  {
   "cell_type": "code",
   "execution_count": null,
   "id": "15fbf3b756524778",
   "metadata": {},
   "outputs": [],
   "source": [
    "torch.tensor([1.0, 2.0, 3.0], dtype =torch.int32)"
   ]
  },
  {
   "cell_type": "code",
   "execution_count": null,
   "id": "289b22551e43b33",
   "metadata": {},
   "outputs": [],
   "source": [
    "torch.tensor([1.0, 2.0, 3.0], dtype =torch.float32)"
   ]
  },
  {
   "cell_type": "code",
   "execution_count": null,
   "id": "2529c5de88682e07",
   "metadata": {},
   "outputs": [],
   "source": [
    "x.to(torch.float32)"
   ]
  },
  {
   "cell_type": "markdown",
   "id": "cfd703cf211a159e",
   "metadata": {},
   "source": [
    "## Mathematical Operations"
   ]
  },
  {
   "cell_type": "code",
   "execution_count": null,
   "id": "8b7231e1e46f9ffa",
   "metadata": {},
   "outputs": [],
   "source": [
    "x = torch.randn(2,2)\n",
    "x"
   ]
  },
  {
   "cell_type": "code",
   "execution_count": null,
   "id": "e8f519dfcb226af2",
   "metadata": {},
   "outputs": [],
   "source": [
    "print(x + 2)\n",
    "print(x-2)\n",
    "print(x*2)\n",
    "print(x/2)\n",
    "print(x//2)\n",
    "print(x%2)\n",
    "print(x**2)"
   ]
  },
  {
   "cell_type": "code",
   "execution_count": null,
   "id": "f5707b49fe53ca8a",
   "metadata": {},
   "outputs": [],
   "source": [
    "first = torch.randint(1,10, (2,2))\n",
    "second = torch.randint(1,10, (2,2))\n",
    "first, second"
   ]
  },
  {
   "cell_type": "code",
   "execution_count": null,
   "id": "643e58bdedf3585f",
   "metadata": {},
   "outputs": [],
   "source": [
    "print(first + second)\n",
    "print(first - second)\n",
    "print(first * second)\n",
    "print(first // second)\n",
    "print(first % second)\n",
    "print(first ** second)"
   ]
  },
  {
   "cell_type": "code",
   "execution_count": null,
   "id": "a2935c1a1130e38a",
   "metadata": {},
   "outputs": [],
   "source": [
    "c = torch.randint(1,10, (1,10)) * -1\n",
    "c"
   ]
  },
  {
   "cell_type": "code",
   "execution_count": null,
   "id": "5637d529ae29e7bc",
   "metadata": {},
   "outputs": [],
   "source": [
    "torch.abs(c)"
   ]
  },
  {
   "cell_type": "code",
   "execution_count": null,
   "id": "51f665cbf5b39b36",
   "metadata": {},
   "outputs": [],
   "source": [
    "torch.neg(c)"
   ]
  },
  {
   "cell_type": "code",
   "execution_count": null,
   "id": "208e0dbdb772bc73",
   "metadata": {},
   "outputs": [],
   "source": [
    "torch.round(x)"
   ]
  },
  {
   "cell_type": "code",
   "execution_count": null,
   "id": "c4b5ebdbec0c0fc1",
   "metadata": {},
   "outputs": [],
   "source": [
    "torch.ceil(x)"
   ]
  },
  {
   "cell_type": "code",
   "execution_count": null,
   "id": "82c3de3c8ed1da37",
   "metadata": {},
   "outputs": [],
   "source": [
    "torch.floor(x)"
   ]
  },
  {
   "cell_type": "code",
   "execution_count": null,
   "id": "1413f41d1d2ade88",
   "metadata": {},
   "outputs": [],
   "source": [
    "torch.clamp(first, 3, 5)"
   ]
  },
  {
   "cell_type": "code",
   "execution_count": null,
   "id": "a8b5cbe95d8209b4",
   "metadata": {},
   "outputs": [],
   "source": []
  },
  {
   "cell_type": "markdown",
   "id": "223d44dafe186a66",
   "metadata": {},
   "source": [
    "## Reduction Operation"
   ]
  },
  {
   "cell_type": "code",
   "execution_count": null,
   "id": "cf72d64038141c7",
   "metadata": {},
   "outputs": [],
   "source": [
    "torch.sum(first)"
   ]
  },
  {
   "cell_type": "code",
   "execution_count": null,
   "id": "7bbebde95ed0265e",
   "metadata": {},
   "outputs": [],
   "source": [
    "torch.sum(first, dim=0)"
   ]
  },
  {
   "cell_type": "code",
   "execution_count": null,
   "id": "822411df0712ce65",
   "metadata": {},
   "outputs": [],
   "source": [
    "torch.sum(first, dim=1)"
   ]
  },
  {
   "cell_type": "code",
   "execution_count": null,
   "id": "347860934e7865b",
   "metadata": {},
   "outputs": [],
   "source": [
    "torch.mean(x) # can also do for dimensions"
   ]
  },
  {
   "cell_type": "code",
   "execution_count": null,
   "id": "fc7d428436c88516",
   "metadata": {},
   "outputs": [],
   "source": [
    "torch.median(first)"
   ]
  },
  {
   "cell_type": "code",
   "execution_count": null,
   "id": "fbba210136bff6c0",
   "metadata": {},
   "outputs": [],
   "source": [
    "torch.min(first)"
   ]
  },
  {
   "cell_type": "code",
   "execution_count": null,
   "id": "b53200af35a96c6d",
   "metadata": {},
   "outputs": [],
   "source": [
    "torch.max(first)"
   ]
  },
  {
   "cell_type": "code",
   "execution_count": null,
   "id": "679b806bc23c0d58",
   "metadata": {},
   "outputs": [],
   "source": [
    "torch.prod(first)"
   ]
  },
  {
   "cell_type": "code",
   "execution_count": null,
   "id": "eb974a541ef3a213",
   "metadata": {},
   "outputs": [],
   "source": [
    "torch.std(x)"
   ]
  },
  {
   "cell_type": "code",
   "execution_count": null,
   "id": "8dc1f0ce192065a9",
   "metadata": {},
   "outputs": [],
   "source": [
    "torch.var(x)"
   ]
  },
  {
   "cell_type": "code",
   "execution_count": null,
   "id": "aaf233deda3a5e7e",
   "metadata": {},
   "outputs": [],
   "source": [
    "torch.argmax(first)"
   ]
  },
  {
   "cell_type": "code",
   "execution_count": null,
   "id": "a8348e581e6670cc",
   "metadata": {},
   "outputs": [],
   "source": [
    "torch.argmin(first)"
   ]
  },
  {
   "cell_type": "markdown",
   "id": "9c20b7ab6052afce",
   "metadata": {},
   "source": [
    "## Matrix Operations"
   ]
  },
  {
   "cell_type": "code",
   "execution_count": null,
   "id": "1176cceeae522f9f",
   "metadata": {},
   "outputs": [],
   "source": [
    "torch.matmul(first, second)"
   ]
  },
  {
   "cell_type": "code",
   "execution_count": null,
   "id": "ecc18e4974b7268f",
   "metadata": {},
   "outputs": [],
   "source": [
    "v1 = torch.tensor([1,2,3])\n",
    "v2 = torch.tensor([4,5,6])"
   ]
  },
  {
   "cell_type": "code",
   "execution_count": null,
   "id": "e98c427fbd28146e",
   "metadata": {},
   "outputs": [],
   "source": [
    "torch.dot(v1, v2)"
   ]
  },
  {
   "cell_type": "code",
   "execution_count": null,
   "id": "d7c8b21d7c440ce6",
   "metadata": {},
   "outputs": [],
   "source": [
    "torch.transpose(first, 0, 1)"
   ]
  },
  {
   "cell_type": "code",
   "execution_count": null,
   "id": "60803c4957c01b0b",
   "metadata": {},
   "outputs": [],
   "source": [
    "torch.det(x)"
   ]
  },
  {
   "cell_type": "code",
   "execution_count": null,
   "id": "4fba1ce1851ed59c",
   "metadata": {},
   "outputs": [],
   "source": [
    "torch.inverse(x)"
   ]
  },
  {
   "cell_type": "markdown",
   "id": "cac8079da3c7ad6a",
   "metadata": {},
   "source": [
    "## Comparison Operation"
   ]
  },
  {
   "cell_type": "code",
   "execution_count": null,
   "id": "831192b7a8d9ab07",
   "metadata": {},
   "outputs": [],
   "source": [
    "first > second ## so on and os forth for each operation"
   ]
  },
  {
   "cell_type": "markdown",
   "id": "b21be57d791e98bb",
   "metadata": {},
   "source": [
    "## Special Funtion\n"
   ]
  },
  {
   "cell_type": "code",
   "execution_count": null,
   "id": "bd34859c4cf274b9",
   "metadata": {},
   "outputs": [],
   "source": [
    "torch.log(first)"
   ]
  },
  {
   "cell_type": "code",
   "execution_count": null,
   "id": "f9afc0b62cdc5c3b",
   "metadata": {},
   "outputs": [],
   "source": [
    "torch.exp(first)"
   ]
  },
  {
   "cell_type": "code",
   "execution_count": null,
   "id": "4a6e0294e6ef58cf",
   "metadata": {},
   "outputs": [],
   "source": [
    "torch.sqrt(first)"
   ]
  },
  {
   "cell_type": "code",
   "execution_count": null,
   "id": "7ad45386b2037a06",
   "metadata": {},
   "outputs": [],
   "source": [
    "torch.sigmoid(first)"
   ]
  },
  {
   "cell_type": "code",
   "execution_count": null,
   "id": "d62ac43e5d2d1f83",
   "metadata": {},
   "outputs": [],
   "source": [
    "torch.softmax(x, dim=1)"
   ]
  },
  {
   "cell_type": "code",
   "execution_count": null,
   "id": "e0fffae73122645b",
   "metadata": {},
   "outputs": [],
   "source": [
    "torch.relu(c)"
   ]
  },
  {
   "cell_type": "code",
   "execution_count": null,
   "id": "3c67f610bc7769bd",
   "metadata": {},
   "outputs": [],
   "source": []
  },
  {
   "cell_type": "markdown",
   "id": "370cdc7050c1438f",
   "metadata": {},
   "source": [
    "## Inplace Operations"
   ]
  },
  {
   "cell_type": "code",
   "execution_count": null,
   "id": "caa0dcbc501033a1",
   "metadata": {},
   "outputs": [],
   "source": [
    "## new tensor is created after the operation and occupy memory. so instead of using seperate we save it on the existing"
   ]
  },
  {
   "cell_type": "code",
   "execution_count": null,
   "id": "99f2154dd6c411dd",
   "metadata": {},
   "outputs": [],
   "source": [
    "first.add(second)"
   ]
  },
  {
   "cell_type": "code",
   "execution_count": null,
   "id": "2c97128d47a71351",
   "metadata": {},
   "outputs": [],
   "source": [
    "c.relu_() # underscore is used for inplace"
   ]
  },
  {
   "cell_type": "code",
   "execution_count": null,
   "id": "39bf89ead5b97e2d",
   "metadata": {},
   "outputs": [],
   "source": [
    "c"
   ]
  },
  {
   "cell_type": "code",
   "execution_count": null,
   "id": "cfd599aa0bdc9447",
   "metadata": {},
   "outputs": [],
   "source": []
  },
  {
   "cell_type": "markdown",
   "id": "14f188e3ab7b74e1",
   "metadata": {},
   "source": [
    "## Copying a Tensor"
   ]
  },
  {
   "cell_type": "code",
   "execution_count": null,
   "id": "654e4f0945999014",
   "metadata": {},
   "outputs": [],
   "source": [
    "# a = b if one changes the other changes\n",
    "third = torch.clone(first)"
   ]
  },
  {
   "cell_type": "markdown",
   "id": "fcb6dec95fd37c6d",
   "metadata": {},
   "source": [
    "## Tensor Operations on GPU"
   ]
  },
  {
   "cell_type": "code",
   "execution_count": null,
   "id": "a3b7090f861b50be",
   "metadata": {},
   "outputs": [],
   "source": [
    "device = \"gpu\" if torch.cuda.is_available() else \"cpu\"\n"
   ]
  },
  {
   "cell_type": "code",
   "execution_count": null,
   "id": "f3bd0678ca546ea2",
   "metadata": {},
   "outputs": [],
   "source": [
    "first.to(device)"
   ]
  },
  {
   "cell_type": "code",
   "execution_count": null,
   "id": "5c3a1263c8b2eebc",
   "metadata": {},
   "outputs": [],
   "source": []
  },
  {
   "cell_type": "markdown",
   "id": "bd8cdbba43ec6f36",
   "metadata": {},
   "source": [
    "## Reshaping Tensor"
   ]
  },
  {
   "cell_type": "code",
   "execution_count": 172,
   "id": "b54c18f04068f024",
   "metadata": {
    "ExecuteTime": {
     "end_time": "2025-02-25T19:15:22.125219Z",
     "start_time": "2025-02-25T19:15:22.109207Z"
    }
   },
   "outputs": [
    {
     "data": {
      "text/plain": [
       "tensor([[0.6273, 0.7358, 0.4368, 0.3023],\n",
       "        [0.7786, 0.1018, 0.8160, 0.3060],\n",
       "        [0.5077, 0.4012, 0.5606, 0.3489]])"
      ]
     },
     "execution_count": 172,
     "metadata": {},
     "output_type": "execute_result"
    }
   ],
   "source": [
    "for_reshape = torch.rand(3,4)\n",
    "for_reshape"
   ]
  },
  {
   "cell_type": "code",
   "execution_count": null,
   "id": "4956dae645cbc2be",
   "metadata": {},
   "outputs": [],
   "source": [
    "torch.reshape(for_reshape, (6,2))"
   ]
  },
  {
   "cell_type": "code",
   "execution_count": null,
   "id": "661291b680d450b2",
   "metadata": {},
   "outputs": [],
   "source": [
    "torch.flatten(for_reshape)"
   ]
  },
  {
   "cell_type": "code",
   "execution_count": 174,
   "id": "71aa214a9bc28123",
   "metadata": {
    "ExecuteTime": {
     "end_time": "2025-02-25T19:15:39.479694Z",
     "start_time": "2025-02-25T19:15:39.468238Z"
    }
   },
   "outputs": [
    {
     "data": {
      "text/plain": [
       "tensor([[0.6273, 0.7786, 0.5077],\n",
       "        [0.7358, 0.1018, 0.4012],\n",
       "        [0.4368, 0.8160, 0.5606],\n",
       "        [0.3023, 0.3060, 0.3489]])"
      ]
     },
     "execution_count": 174,
     "metadata": {},
     "output_type": "execute_result"
    }
   ],
   "source": [
    "torch.permute(for_reshape, (1, 0))"
   ]
  },
  {
   "cell_type": "code",
   "execution_count": 175,
   "id": "5c2257ce393f231f",
   "metadata": {
    "ExecuteTime": {
     "end_time": "2025-02-25T19:17:41.408870Z",
     "start_time": "2025-02-25T19:17:41.397190Z"
    }
   },
   "outputs": [],
   "source": [
    "img = torch.randn(226, 226,3)"
   ]
  },
  {
   "cell_type": "code",
   "execution_count": 179,
   "id": "3f123710e44793a1",
   "metadata": {
    "ExecuteTime": {
     "end_time": "2025-02-25T19:18:34.028597Z",
     "start_time": "2025-02-25T19:18:34.016773Z"
    }
   },
   "outputs": [
    {
     "data": {
      "text/plain": [
       "torch.Size([226, 226, 3, 1])"
      ]
     },
     "execution_count": 179,
     "metadata": {},
     "output_type": "execute_result"
    }
   ],
   "source": [
    "img.unsqueeze(3).shape"
   ]
  },
  {
   "cell_type": "code",
   "execution_count": 182,
   "id": "6086a8a60d2beb4",
   "metadata": {
    "ExecuteTime": {
     "end_time": "2025-02-25T19:20:11.712135Z",
     "start_time": "2025-02-25T19:20:11.685524Z"
    }
   },
   "outputs": [
    {
     "data": {
      "text/plain": [
       "tensor([[0.6273, 0.7358, 0.4368, 0.3023],\n",
       "        [0.7786, 0.1018, 0.8160, 0.3060],\n",
       "        [0.5077, 0.4012, 0.5606, 0.3489]])"
      ]
     },
     "execution_count": 182,
     "metadata": {},
     "output_type": "execute_result"
    }
   ],
   "source": [
    "torch.squeeze(for_reshape, 1)"
   ]
  },
  {
   "cell_type": "code",
   "execution_count": null,
   "id": "ad6f9e7f4a2679f8",
   "metadata": {},
   "outputs": [],
   "source": []
  },
  {
   "cell_type": "markdown",
   "id": "59142e0eaef09c07",
   "metadata": {},
   "source": [
    "## Numpy and PyTorch"
   ]
  },
  {
   "cell_type": "code",
   "execution_count": 194,
   "id": "9c58a94bb9667937",
   "metadata": {
    "ExecuteTime": {
     "end_time": "2025-02-25T21:29:32.933341Z",
     "start_time": "2025-02-25T21:29:32.920949Z"
    }
   },
   "outputs": [],
   "source": [
    "first = first.numpy()"
   ]
  },
  {
   "cell_type": "code",
   "execution_count": 187,
   "id": "e9d61c978209ca14",
   "metadata": {
    "ExecuteTime": {
     "end_time": "2025-02-25T19:23:38.012654Z",
     "start_time": "2025-02-25T19:23:37.992252Z"
    }
   },
   "outputs": [
    {
     "data": {
      "text/plain": [
       "numpy.ndarray"
      ]
     },
     "execution_count": 187,
     "metadata": {},
     "output_type": "execute_result"
    }
   ],
   "source": [
    "type(first)"
   ]
  },
  {
   "cell_type": "code",
   "execution_count": 192,
   "id": "f0e0cf0ae52d2494",
   "metadata": {
    "ExecuteTime": {
     "end_time": "2025-02-25T19:24:49.622238Z",
     "start_time": "2025-02-25T19:24:49.613056Z"
    }
   },
   "outputs": [],
   "source": [
    "first = torch.from_numpy(first)"
   ]
  },
  {
   "cell_type": "code",
   "execution_count": 193,
   "id": "b9e95d4ace2ed787",
   "metadata": {
    "ExecuteTime": {
     "end_time": "2025-02-25T19:24:53.030352Z",
     "start_time": "2025-02-25T19:24:53.011258Z"
    }
   },
   "outputs": [
    {
     "data": {
      "text/plain": [
       "torch.Tensor"
      ]
     },
     "execution_count": 193,
     "metadata": {},
     "output_type": "execute_result"
    }
   ],
   "source": [
    "type(first)"
   ]
  },
  {
   "cell_type": "code",
   "execution_count": null,
   "id": "1fb3e7ea7baf8b6b",
   "metadata": {},
   "outputs": [],
   "source": []
  }
 ],
 "metadata": {
  "kernelspec": {
   "display_name": "Python 3",
   "language": "python",
   "name": "python3"
  },
  "language_info": {
   "codemirror_mode": {
    "name": "ipython",
    "version": 2
   },
   "file_extension": ".py",
   "mimetype": "text/x-python",
   "name": "python",
   "nbconvert_exporter": "python",
   "pygments_lexer": "ipython2",
   "version": "2.7.6"
  }
 },
 "nbformat": 4,
 "nbformat_minor": 5
}
